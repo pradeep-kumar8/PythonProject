{
 "cells": [
  {
   "cell_type": "code",
   "execution_count": 84,
   "metadata": {},
   "outputs": [
    {
     "name": "stdout",
     "output_type": "stream",
     "text": [
      "                            Log Time    P    C    R  \\\n",
      "count                           4299  0.0  0.0  0.0   \n",
      "mean   2024-01-15 23:52:39.242610432  NaN  NaN  NaN   \n",
      "min       2024-01-01 01:16:57.417000  NaN  NaN  NaN   \n",
      "25%    2024-01-08 14:15:47.341499904  NaN  NaN  NaN   \n",
      "50%    2024-01-15 16:01:42.356999936  NaN  NaN  NaN   \n",
      "75%    2024-01-23 14:30:58.175000064  NaN  NaN  NaN   \n",
      "max       2024-01-31 21:01:47.423000  NaN  NaN  NaN   \n",
      "std                              NaN  NaN  NaN  NaN   \n",
      "\n",
      "                            Response                   Incident End  \\\n",
      "count                           4291                           4236   \n",
      "mean   2024-01-15 23:47:37.299525632  2024-01-16 06:45:44.587608832   \n",
      "min       2024-01-01 01:20:52.400000     2024-01-01 01:21:54.473000   \n",
      "25%    2024-01-08 14:11:24.606500096  2024-01-08 18:47:11.377499904   \n",
      "50%    2024-01-15 16:03:00.736999936  2024-01-15 19:15:05.376499968   \n",
      "75%    2024-01-23 13:41:59.068499968  2024-01-23 17:16:09.233499904   \n",
      "max       2024-01-31 21:01:47.423000     2024-02-01 11:22:28.720000   \n",
      "std                              NaN                            NaN   \n",
      "\n",
      "       Total Pending Duration  Total pending Duration SLA Minutes         P.1  \\\n",
      "count             1240.000000                         1240.000000  267.000000   \n",
      "mean              1452.629839                         1356.599194    0.940075   \n",
      "min                  0.000000                          -31.000000    0.000000   \n",
      "25%                 95.750000                           94.000000    1.000000   \n",
      "50%                343.000000                          303.000000    1.000000   \n",
      "75%               1603.250000                         1449.250000    1.000000   \n",
      "max              32892.000000                        32869.000000    1.000000   \n",
      "std               2503.443959                         2462.217637    0.237794   \n",
      "\n",
      "              C.1         R.1  Converted SR Ticket Number  \\\n",
      "count  267.000000  267.000000                         0.0   \n",
      "mean     0.996255    0.925094                         NaN   \n",
      "min      0.000000    0.000000                         NaN   \n",
      "25%      1.000000    1.000000                         NaN   \n",
      "50%      1.000000    1.000000                         NaN   \n",
      "75%      1.000000    1.000000                         NaN   \n",
      "max      1.000000    1.000000                         NaN   \n",
      "std      0.061199    0.263735                         NaN   \n",
      "\n",
      "       Resolution SLA Mins        Ext No Last User Communication Updated On  \\\n",
      "count          4235.000000  6.800000e+02                               3177   \n",
      "mean            616.066116  1.575594e+09      2024-01-15 23:09:24.200311808   \n",
      "min             120.000000  0.000000e+00         2024-01-01 01:16:58.580000   \n",
      "25%             360.000000  1.137000e+03      2024-01-08 13:37:50.167000064   \n",
      "50%             360.000000  2.115000e+03         2024-01-15 16:33:20.740000   \n",
      "75%             360.000000  6.029250e+03         2024-01-23 12:42:30.140000   \n",
      "max            4320.000000  9.721529e+10         2024-01-31 19:17:41.440000   \n",
      "std             649.042691  4.916346e+09                                NaN   \n",
      "\n",
      "              Private Log Updated On         MTTR  \n",
      "count                           3577  4299.000000  \n",
      "mean   2024-01-16 02:05:34.050371840   130.154920  \n",
      "min       2024-01-01 01:16:58.580000     0.000000  \n",
      "25%       2024-01-08 14:45:34.440000    11.000000  \n",
      "50%    2024-01-15 20:54:22.889999872    67.000000  \n",
      "75%    2024-01-23 15:19:23.827000064   172.000000  \n",
      "max       2024-02-01 11:31:41.153000  5643.000000  \n",
      "std                              NaN   264.130794  \n"
     ]
    }
   ],
   "source": [
    "import pandas as pd\n",
    "import numpy as np\n",
    "# melbourne_data = pd.read_excel(\"PMS Dashboard of Medanta.xlsx\", sheet_name=\"Medanta Modified Daily Incident\") \n",
    "# melbourne_data.describe()\n",
    "\n",
    "# Provide the full path to the Excel file if it's not in the same directory as your script\n",
    "file_path = \"PMS Dashboard of Medanta.xlsx\"\n",
    "\n",
    "# Try to read the Excel file\n",
    "try:\n",
    "    medanta_data = pd.read_excel(file_path, sheet_name=\"Medanta Modified Daily Incident\")\n",
    "    print(medanta_data.describe())\n",
    "except FileNotFoundError:\n",
    "    print(f\"File '{file_path}' not found.\")\n",
    "except PermissionError:\n",
    "    print(f\"No permission to access the file '{file_path}'.\")\n",
    "except Exception as e:\n",
    "    print(\"An error occurred:\", e)\n"
   ]
  },
  {
   "cell_type": "code",
   "execution_count": 85,
   "metadata": {},
   "outputs": [
    {
     "data": {
      "text/plain": [
       "Index(['Ticket No', 'Caller', 'Logged By', 'Location', 'Customer', 'Log Time',\n",
       "       'Status', 'Classification', 'Category', 'Priority', 'Impact',\n",
       "       'Pending Reason', 'Symptom', 'Description', 'Workgroup', 'Analyst', 'P',\n",
       "       'C', 'R', 'Response', 'Incident End', 'Total Pending Duration',\n",
       "       'Total pending Duration SLA Minutes', 'Solution', 'P.1', 'C.1', 'R.1',\n",
       "       'Closure Code', 'Resolved By', 'Converted SR Ticket Number',\n",
       "       'Response SLA Met', 'Resolution SLA Mins', 'Resolution SLA Met',\n",
       "       'Agent Logged', 'Department', 'Ext No', 'Host Name', 'Resolution Mode',\n",
       "       'Floor', 'Findings Actual Issue Observed', 'Resolution Given',\n",
       "       'Last User Communication', 'Last User Communication Updated On',\n",
       "       'Private Log', 'Private Log Updated On', 'MTTR'],\n",
       "      dtype='object')"
      ]
     },
     "execution_count": 85,
     "metadata": {},
     "output_type": "execute_result"
    }
   ],
   "source": [
    "medanta_data.columns"
   ]
  },
  {
   "cell_type": "code",
   "execution_count": 86,
   "metadata": {},
   "outputs": [
    {
     "data": {
      "text/html": [
       "<div>\n",
       "<style scoped>\n",
       "    .dataframe tbody tr th:only-of-type {\n",
       "        vertical-align: middle;\n",
       "    }\n",
       "\n",
       "    .dataframe tbody tr th {\n",
       "        vertical-align: top;\n",
       "    }\n",
       "\n",
       "    .dataframe thead th {\n",
       "        text-align: right;\n",
       "    }\n",
       "</style>\n",
       "<table border=\"1\" class=\"dataframe\">\n",
       "  <thead>\n",
       "    <tr style=\"text-align: right;\">\n",
       "      <th></th>\n",
       "      <th>Symptom</th>\n",
       "      <th>Analyst</th>\n",
       "      <th>Solution</th>\n",
       "    </tr>\n",
       "  </thead>\n",
       "  <tbody>\n",
       "    <tr>\n",
       "      <th>0</th>\n",
       "      <td>Ticket description : WIFI ACCESS -ML10148776 |...</td>\n",
       "      <td>Abhay Verma</td>\n",
       "      <td>Same has been done and connect Hence we are re...</td>\n",
       "    </tr>\n",
       "    <tr>\n",
       "      <th>1</th>\n",
       "      <td>Need to check all the totem machines (ON/OFF) ...</td>\n",
       "      <td>Abhay Verma</td>\n",
       "      <td>Same has been done totem machines (ON/OFF), He...</td>\n",
       "    </tr>\n",
       "    <tr>\n",
       "      <th>2</th>\n",
       "      <td>Ticket description : WIFI ACCESS -ML10256487 |...</td>\n",
       "      <td>Abhay Verma</td>\n",
       "      <td>Same has been done and connected, Hence we are...</td>\n",
       "    </tr>\n",
       "    <tr>\n",
       "      <th>3</th>\n",
       "      <td>Ticket description : WIFI ACCESS -ML10239353 |...</td>\n",
       "      <td>Abhay Verma</td>\n",
       "      <td>Same has been done and connecte, Hence we are ...</td>\n",
       "    </tr>\n",
       "    <tr>\n",
       "      <th>4</th>\n",
       "      <td>Ticket description : WIFI ACCESS -ML10105200 |...</td>\n",
       "      <td>Abhay Verma</td>\n",
       "      <td>Same has been done and connected, Hence we are...</td>\n",
       "    </tr>\n",
       "  </tbody>\n",
       "</table>\n",
       "</div>"
      ],
      "text/plain": [
       "                                             Symptom      Analyst  \\\n",
       "0  Ticket description : WIFI ACCESS -ML10148776 |...  Abhay Verma   \n",
       "1  Need to check all the totem machines (ON/OFF) ...  Abhay Verma   \n",
       "2  Ticket description : WIFI ACCESS -ML10256487 |...  Abhay Verma   \n",
       "3  Ticket description : WIFI ACCESS -ML10239353 |...  Abhay Verma   \n",
       "4  Ticket description : WIFI ACCESS -ML10105200 |...  Abhay Verma   \n",
       "\n",
       "                                            Solution  \n",
       "0  Same has been done and connect Hence we are re...  \n",
       "1  Same has been done totem machines (ON/OFF), He...  \n",
       "2  Same has been done and connected, Hence we are...  \n",
       "3  Same has been done and connecte, Hence we are ...  \n",
       "4  Same has been done and connected, Hence we are...  "
      ]
     },
     "execution_count": 86,
     "metadata": {},
     "output_type": "execute_result"
    }
   ],
   "source": [
    "data = medanta_data[['Symptom', 'Analyst', 'Solution']]\n",
    "data.head()"
   ]
  },
  {
   "cell_type": "code",
   "execution_count": 100,
   "metadata": {},
   "outputs": [],
   "source": [
    "# data['Category'] = np.where(data['Symptom'].str.contains('printer', case=False, na=False), 'Printer', \n",
    "#                    np.where(data['Symptom'].str.contains('wifi', case=False, na=False), 'WiFi', \n",
    "#                    np.where(data['Symptom'].str.contains('display', case=False, na=False), 'Hardware', \n",
    "#                    np.where(data['Symptom'].str.contains('window', case=False, na=False), 'software', \n",
    "#                    np.where(data['Symptom'].str.contains('asset', case=False, na=False), 'Asset Allocation', \n",
    "#                    np.where(data['Symptom'].str.contains('cable', case=False, na=False), 'Hardware', \n",
    "#                    np.where(data['Symptom'].str.contains('display', case=False, na=False), 'Hardware', \n",
    "#                    np.where(data['Symptom'].str.contains('screen', case=False, na=False), 'Hardware', \n",
    "#                    np.where(data['Symptom'].str.contains('', case=False, na=False), 'WiFi', \n",
    "#                    np.where(data['Symptom'].str.contains('', case=False, na=False), 'WiFi', \n",
    "#                    np.where(data['Symptom'].str.contains('', case=False, na=False), 'WiFi', \n",
    "#                    np.where(data['Symptom'].str.contains('', case=False, na=False), 'WiFi', \n",
    "#                    np.where(data['Symptom'].str.contains('', case=False, na=False), 'WiFi', \n",
    "#                    np.where(data['Symptom'].str.contains('', case=False, na=False), 'WiFi', \n",
    "#                    np.where(data['Symptom'].str.contains('', case=False, na=False), 'WiFi', \n",
    "#                    np.where(data['Symptom'].str.contains('', case=False, na=False), 'WiFi', \n",
    "#                    np.where(data['Symptom'].str.contains('', case=False, na=False), 'WiFi', \n",
    "#                    np.where(data['Symptom'].str.contains('', case=False, na=False), 'WiFi', \n",
    "#                    np.where(data['Symptom'].str.contains('', case=False, na=False), 'WiFi', \n",
    "#                    np.where(data['Symptom'].str.contains('', case=False, na=False), 'WiFi', \n",
    "#                    np.where(data['Symptom'].str.contains('', case=False, na=False), 'WiFi', \n",
    "#                    np.where(data['Symptom'].str.contains('', case=False, na=False), 'WiFi', \n",
    "#                    np.where(data['Symptom'].str.contains('', case=False, na=False), 'WiFi', \n",
    "#                    np.where(data['Symptom'].str.contains('', case=False, na=False), 'WiFi', \n",
    "#                    np.nan)) \n",
    "\n",
    "# print(data.head())"
   ]
  },
  {
   "cell_type": "code",
   "execution_count": 101,
   "metadata": {},
   "outputs": [
    {
     "name": "stdout",
     "output_type": "stream",
     "text": [
      "                                             Symptom      Analyst  \\\n",
      "0  Ticket description : WIFI ACCESS -ML10148776 |...  Abhay Verma   \n",
      "1  Need to check all the totem machines (ON/OFF) ...  Abhay Verma   \n",
      "2  Ticket description : WIFI ACCESS -ML10256487 |...  Abhay Verma   \n",
      "3  Ticket description : WIFI ACCESS -ML10239353 |...  Abhay Verma   \n",
      "4  Ticket description : WIFI ACCESS -ML10105200 |...  Abhay Verma   \n",
      "\n",
      "                                            Solution Category  \n",
      "0  Same has been done and connect Hence we are re...     WiFi  \n",
      "1  Same has been done totem machines (ON/OFF), He...      nan  \n",
      "2  Same has been done and connected, Hence we are...     WiFi  \n",
      "3  Same has been done and connecte, Hence we are ...     WiFi  \n",
      "4  Same has been done and connected, Hence we are...     WiFi  \n"
     ]
    },
    {
     "name": "stderr",
     "output_type": "stream",
     "text": [
      "C:\\Users\\pradeep.kumar1\\AppData\\Local\\Temp\\ipykernel_14744\\4047685076.py:19: SettingWithCopyWarning: \n",
      "A value is trying to be set on a copy of a slice from a DataFrame.\n",
      "Try using .loc[row_indexer,col_indexer] = value instead\n",
      "\n",
      "See the caveats in the documentation: https://pandas.pydata.org/pandas-docs/stable/user_guide/indexing.html#returning-a-view-versus-a-copy\n",
      "  data['Category'] = np.select(conditions, choices, default=np.nan)\n"
     ]
    }
   ],
   "source": [
    "conditions = [\n",
    "    data['Symptom'].str.contains('printer', case=False, na=False),\n",
    "    data['Symptom'].str.contains('wifi', case=False, na=False),\n",
    "    data['Symptom'].str.contains('display|screen|cable', case=False, na=False),\n",
    "    data['Symptom'].str.contains('asset', case=False, na=False),\n",
    "    # Add more conditions as needed\n",
    "]\n",
    "\n",
    "choices = [\n",
    "    'Printer',\n",
    "    'WiFi',\n",
    "    'Hardware',\n",
    "    'Asset Allocation',\n",
    "    # Add more choices as needed\n",
    "]\n",
    "\n",
    "data['Category'] = np.select(conditions, choices, default=np.nan)\n",
    "\n",
    "print(data.head())\n"
   ]
  }
 ],
 "metadata": {
  "kernelspec": {
   "display_name": "Python 3",
   "language": "python",
   "name": "python3"
  },
  "language_info": {
   "codemirror_mode": {
    "name": "ipython",
    "version": 3
   },
   "file_extension": ".py",
   "mimetype": "text/x-python",
   "name": "python",
   "nbconvert_exporter": "python",
   "pygments_lexer": "ipython3",
   "version": "3.12.1"
  }
 },
 "nbformat": 4,
 "nbformat_minor": 2
}
